{
 "cells": [
  {
   "cell_type": "code",
   "execution_count": 8,
   "metadata": {},
   "outputs": [],
   "source": [
    "MODEL_ROOT_FOLDER = 'Results/WREN38'\n",
    "TEST_METRICS_NAME = 'test_metrics.json'\n",
    "TEST_SAVE_NAME = 'test_acc.txt'\n",
    "\n",
    "TEST_ACC_PATH = MODEL_ROOT_FOLDER+'/'+TEST_SAVE_NAME\n",
    "TEST_METRICS_PATH = MODEL_ROOT_FOLDER+'/'+TEST_METRICS_NAME"
   ]
  },
  {
   "cell_type": "code",
   "execution_count": 6,
   "metadata": {},
   "outputs": [],
   "source": [
    "import json\n",
    "import numpy as np\n",
    "\n",
    "with open(TEST_METRICS_PATH) as json_file:\n",
    "    metrics_test = json.load(json_file)\n",
    "\n",
    "metrics_test['correct'] = [np.array(x) for x in metrics_test['correct']]\n",
    "\n",
    "acc_test = 100 * np.sum(metrics_test['correct']) / np.sum(metrics_test['count'])\n"
   ]
  },
  {
   "cell_type": "code",
   "execution_count": 12,
   "metadata": {},
   "outputs": [
    {
     "name": "stdout",
     "output_type": "stream",
     "text": [
      "31.4895\n"
     ]
    }
   ],
   "source": [
    "from datetime import datetime\n",
    "\n",
    "print(acc_test)\n",
    "with open(TEST_ACC_PATH, 'w') as f:\n",
    "    f.write('Acc Test: {:.8f}, Time: {:s}\\n'.format(\n",
    "        acc_test, datetime.now().strftime('%H:%M:%S')))"
   ]
  }
 ],
 "metadata": {
  "kernelspec": {
   "display_name": "Python 3",
   "language": "python",
   "name": "python3"
  },
  "language_info": {
   "codemirror_mode": {
    "name": "ipython",
    "version": 3
   },
   "file_extension": ".py",
   "mimetype": "text/x-python",
   "name": "python",
   "nbconvert_exporter": "python",
   "pygments_lexer": "ipython3",
   "version": "3.10.12"
  },
  "orig_nbformat": 4
 },
 "nbformat": 4,
 "nbformat_minor": 2
}
